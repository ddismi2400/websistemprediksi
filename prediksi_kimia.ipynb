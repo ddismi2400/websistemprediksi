{
 "cells": [
  {
   "cell_type": "code",
   "execution_count": 1,
   "metadata": {},
   "outputs": [],
   "source": [
    "import numpy as np # linear algebra\n",
    "import pandas as pd # data processing, excel file I/O (e.g. pd.read_excel)\n",
    "from sklearn.model_selection import train_test_split\n",
    "from sklearn.model_selection import KFold\n",
    "from sklearn.model_selection import cross_val_score\n",
    "from sklearn.metrics import classification_report\n",
    "from sklearn.metrics import confusion_matrix\n",
    "from sklearn.metrics import accuracy_score\n",
    "from sklearn.ensemble import RandomForestClassifier\n",
    "from sklearn.discriminant_analysis import LinearDiscriminantAnalysis"
   ]
  },
  {
   "cell_type": "code",
   "execution_count": 2,
   "metadata": {},
   "outputs": [],
   "source": [
    "df = pd.read_excel('kimia2018-2019.xlsx', header=None)"
   ]
  },
  {
   "cell_type": "code",
   "execution_count": 3,
   "metadata": {},
   "outputs": [],
   "source": [
    "# Menghapus Index ke-0\n",
    "df = df.drop([0])\n",
    "\n",
    "# Menghapus Index\n",
    "df = df.reset_index(drop=True)\n",
    "df.columns = ['Nim','Nama','Prodi','Lama Penulisan','SKS','IPK','TOEFL','Kelas']"
   ]
  },
  {
   "cell_type": "code",
   "execution_count": 4,
   "metadata": {},
   "outputs": [
    {
     "data": {
      "text/html": [
       "<div>\n",
       "<style scoped>\n",
       "    .dataframe tbody tr th:only-of-type {\n",
       "        vertical-align: middle;\n",
       "    }\n",
       "\n",
       "    .dataframe tbody tr th {\n",
       "        vertical-align: top;\n",
       "    }\n",
       "\n",
       "    .dataframe thead th {\n",
       "        text-align: right;\n",
       "    }\n",
       "</style>\n",
       "<table border=\"1\" class=\"dataframe\">\n",
       "  <thead>\n",
       "    <tr style=\"text-align: right;\">\n",
       "      <th></th>\n",
       "      <th>Nim</th>\n",
       "      <th>Nama</th>\n",
       "      <th>Prodi</th>\n",
       "      <th>Lama Penulisan</th>\n",
       "      <th>SKS</th>\n",
       "      <th>IPK</th>\n",
       "      <th>TOEFL</th>\n",
       "      <th>Kelas</th>\n",
       "    </tr>\n",
       "  </thead>\n",
       "  <tbody>\n",
       "    <tr>\n",
       "      <th>0</th>\n",
       "      <td>1700020127</td>\n",
       "      <td>Hasna Qoryatun Nafi’ah</td>\n",
       "      <td>Teknik Kimia</td>\n",
       "      <td>11.4</td>\n",
       "      <td>146</td>\n",
       "      <td>3.34</td>\n",
       "      <td>435</td>\n",
       "      <td>Tidak Tepat Waktu</td>\n",
       "    </tr>\n",
       "    <tr>\n",
       "      <th>1</th>\n",
       "      <td>1700020130</td>\n",
       "      <td>Fadiya Salwa Zaizafun</td>\n",
       "      <td>Teknik Kimia</td>\n",
       "      <td>11.4</td>\n",
       "      <td>146</td>\n",
       "      <td>3.14</td>\n",
       "      <td>451</td>\n",
       "      <td>Tidak Tepat Waktu</td>\n",
       "    </tr>\n",
       "    <tr>\n",
       "      <th>2</th>\n",
       "      <td>1700020021</td>\n",
       "      <td>Zusuf Tri Purnomo</td>\n",
       "      <td>Teknik kimia</td>\n",
       "      <td>8.733333</td>\n",
       "      <td>146</td>\n",
       "      <td>3.74</td>\n",
       "      <td>490</td>\n",
       "      <td>Tidak Tepat Waktu</td>\n",
       "    </tr>\n",
       "    <tr>\n",
       "      <th>3</th>\n",
       "      <td>1700020027</td>\n",
       "      <td>Anggun Ansafa Wati</td>\n",
       "      <td>Teknik Kimia</td>\n",
       "      <td>3.533333</td>\n",
       "      <td>148</td>\n",
       "      <td>3.92</td>\n",
       "      <td>448</td>\n",
       "      <td>Tepat Waktu</td>\n",
       "    </tr>\n",
       "    <tr>\n",
       "      <th>4</th>\n",
       "      <td>1700020029</td>\n",
       "      <td>Ridho Mahendra</td>\n",
       "      <td>Teknik Kimia</td>\n",
       "      <td>0.5</td>\n",
       "      <td>146</td>\n",
       "      <td>3.57</td>\n",
       "      <td>498</td>\n",
       "      <td>Tepat Waktu</td>\n",
       "    </tr>\n",
       "  </tbody>\n",
       "</table>\n",
       "</div>"
      ],
      "text/plain": [
       "          Nim                     Nama         Prodi Lama Penulisan  SKS  \\\n",
       "0  1700020127  Hasna Qoryatun Nafi’ah   Teknik Kimia           11.4  146   \n",
       "1  1700020130    Fadiya Salwa Zaizafun  Teknik Kimia           11.4  146   \n",
       "2  1700020021        Zusuf Tri Purnomo  Teknik kimia       8.733333  146   \n",
       "3  1700020027       Anggun Ansafa Wati  Teknik Kimia       3.533333  148   \n",
       "4  1700020029           Ridho Mahendra  Teknik Kimia            0.5  146   \n",
       "\n",
       "    IPK TOEFL              Kelas  \n",
       "0  3.34   435  Tidak Tepat Waktu  \n",
       "1  3.14   451  Tidak Tepat Waktu  \n",
       "2  3.74   490  Tidak Tepat Waktu  \n",
       "3  3.92   448        Tepat Waktu  \n",
       "4  3.57   498        Tepat Waktu  "
      ]
     },
     "execution_count": 4,
     "metadata": {},
     "output_type": "execute_result"
    }
   ],
   "source": [
    "df.head()"
   ]
  },
  {
   "cell_type": "code",
   "execution_count": 5,
   "metadata": {},
   "outputs": [
    {
     "data": {
      "text/plain": [
       "(150, 8)"
      ]
     },
     "execution_count": 5,
     "metadata": {},
     "output_type": "execute_result"
    }
   ],
   "source": [
    "df.shape"
   ]
  },
  {
   "cell_type": "code",
   "execution_count": 6,
   "metadata": {},
   "outputs": [
    {
     "name": "stdout",
     "output_type": "stream",
     "text": [
      "<class 'pandas.core.frame.DataFrame'>\n",
      "RangeIndex: 150 entries, 0 to 149\n",
      "Data columns (total 8 columns):\n",
      " #   Column          Non-Null Count  Dtype \n",
      "---  ------          --------------  ----- \n",
      " 0   Nim             150 non-null    object\n",
      " 1   Nama            150 non-null    object\n",
      " 2   Prodi           150 non-null    object\n",
      " 3   Lama Penulisan  150 non-null    object\n",
      " 4   SKS             150 non-null    object\n",
      " 5   IPK             150 non-null    object\n",
      " 6   TOEFL           150 non-null    object\n",
      " 7   Kelas           150 non-null    object\n",
      "dtypes: object(8)\n",
      "memory usage: 9.5+ KB\n"
     ]
    }
   ],
   "source": [
    "df.info()"
   ]
  },
  {
   "cell_type": "code",
   "execution_count": 7,
   "metadata": {},
   "outputs": [
    {
     "data": {
      "text/plain": [
       "False"
      ]
     },
     "execution_count": 7,
     "metadata": {},
     "output_type": "execute_result"
    }
   ],
   "source": [
    "df.isnull().values.any()"
   ]
  },
  {
   "cell_type": "code",
   "execution_count": 8,
   "metadata": {},
   "outputs": [],
   "source": [
    "ket = {\"Tepat Waktu\" : 0, \"Tidak Tepat Waktu\" : 1}\n",
    "df[\"Kelas\"] = df[\"Kelas\"].map(ket)"
   ]
  },
  {
   "cell_type": "code",
   "execution_count": 9,
   "metadata": {},
   "outputs": [
    {
     "data": {
      "text/plain": [
       "Kelas\n",
       "0    124\n",
       "1     26\n",
       "Name: count, dtype: int64"
      ]
     },
     "execution_count": 9,
     "metadata": {},
     "output_type": "execute_result"
    }
   ],
   "source": [
    "df['Kelas'].value_counts()"
   ]
  },
  {
   "cell_type": "code",
   "execution_count": 10,
   "metadata": {},
   "outputs": [
    {
     "name": "stdout",
     "output_type": "stream",
     "text": [
      "Tepat Waktu 82.67 % of the dataset\n",
      "Tidak Tepat Waktu 17.33 % of the dataset\n"
     ]
    }
   ],
   "source": [
    "print('Tepat Waktu', round(df['Kelas'].value_counts()[0]/len(df) * 100,2), '% of the dataset')\n",
    "print('Tidak Tepat Waktu', round(df['Kelas'].value_counts()[1]/len(df) * 100,2), '% of the dataset')"
   ]
  },
  {
   "cell_type": "code",
   "execution_count": 11,
   "metadata": {},
   "outputs": [
    {
     "data": {
      "image/png": "[encoded data removed]",
      "text/plain": [
       "<Figure size 640x480 with 1 Axes>"
      ]
     },
     "metadata": {},
     "output_type": "display_data"
    }
   ],
   "source": [
    "import seaborn as sns\n",
    "import matplotlib.pyplot as plt\n",
    "colors = [\"#0101DF\", \"#DF0101\"]\n",
    "sns.countplot(x='Kelas', data=df, palette=colors)\n",
    "plt.title('Class Distributions \\n (0: Tepat Waktu || 1: Tidak Tepat Waktu)', fontsize=14)\n",
    "plt.show()"
   ]
  },
  {
   "cell_type": "markdown",
   "metadata": {},
   "source": [
    "# Dataset tidak balance"
   ]
  },
  {
   "cell_type": "markdown",
   "metadata": {},
   "source": [
    "\n",
    "kita Resampling datanya. Resampling ada 2 :\n",
    "\n",
    "Random Oversampling: Randomly duplicate examples in the minority class.\n",
    "Random Undersampling: Randomly delete examples in the majority class.\n",
    "disini kita menggunakan random over sampling"
   ]
  },
  {
   "cell_type": "code",
   "execution_count": 12,
   "metadata": {},
   "outputs": [],
   "source": [
    "# Class count\n",
    "count_class_0, count_class_1 = df.Kelas.value_counts()\n",
    "\n",
    "# Divide by class\n",
    "df_class_0 = df[df['Kelas'] == 0]\n",
    "df_class_1 = df[df['Kelas'] == 1]"
   ]
  },
  {
   "cell_type": "code",
   "execution_count": 13,
   "metadata": {},
   "outputs": [
    {
     "name": "stdout",
     "output_type": "stream",
     "text": [
      "Random over-sampling:\n",
      "Kelas\n",
      "0    124\n",
      "1    124\n",
      "Name: count, dtype: int64\n"
     ]
    },
    {
     "data": {
      "image/png": "[encoded data removed]",
      "text/plain": [
       "<Figure size 640x480 with 1 Axes>"
      ]
     },
     "metadata": {},
     "output_type": "display_data"
    }
   ],
   "source": [
    "df_class_1_over = df_class_1.sample(count_class_0, replace=True)\n",
    "df_test_over = pd.concat([df_class_0, df_class_1_over], axis=0)\n",
    "\n",
    "print('Random over-sampling:')\n",
    "print(df_test_over.Kelas.value_counts())\n",
    "\n",
    "df_test_over.Kelas.value_counts().plot(kind='bar', title='Count (Kelas)');"
   ]
  },
  {
   "cell_type": "markdown",
   "metadata": {},
   "source": [
    "gas kan le, kalo udah balance"
   ]
  },
  {
   "cell_type": "code",
   "execution_count": 14,
   "metadata": {},
   "outputs": [],
   "source": [
    "x = df[['Lama Penulisan', 'SKS', 'IPK', 'TOEFL']]\n",
    "y = df['Kelas']"
   ]
  },
  {
   "cell_type": "code",
   "execution_count": 15,
   "metadata": {},
   "outputs": [],
   "source": [
    "from sklearn.model_selection import train_test_split, KFold, cross_val_score\n",
    "from sklearn.metrics import accuracy_score\n",
    "\n",
    "validation_size = 0.30\n",
    "num_trees = 10\n",
    "\n",
    "# Pisahkan data menjadi data latih dan data uji\n",
    "x_train, x_test, y_train, y_test = train_test_split(x, y, test_size=validation_size, shuffle=False, random_state=None)"
   ]
  },
  {
   "cell_type": "code",
   "execution_count": 16,
   "metadata": {},
   "outputs": [],
   "source": [
    "# Inisialisasi model Random Forest dengan parameter yang disetel secara manual\n",
    "model = RandomForestClassifier(\n",
    "    n_estimators=num_trees,\n",
    "    max_depth=2,\n",
    "    min_samples_split=2,\n",
    "    min_samples_leaf=2\n",
    ")"
   ]
  },
  {
   "cell_type": "code",
   "execution_count": 17,
   "metadata": {},
   "outputs": [
    {
     "data": {
      "text/html": [
       "<style>#sk-container-id-1 {color: black;}#sk-container-id-1 pre{padding: 0;}#sk-container-id-1 div.sk-toggleable {background-color: white;}#sk-container-id-1 label.sk-toggleable__label {cursor: pointer;display: block;width: 100%;margin-bottom: 0;padding: 0.3em;box-sizing: border-box;text-align: center;}#sk-container-id-1 label.sk-toggleable__label-arrow:before {content: \"▸\";float: left;margin-right: 0.25em;color: #696969;}#sk-container-id-1 label.sk-toggleable__label-arrow:hover:before {color: black;}#sk-container-id-1 div.sk-estimator:hover label.sk-toggleable__label-arrow:before {color: black;}#sk-container-id-1 div.sk-toggleable__content {max-height: 0;max-width: 0;overflow: hidden;text-align: left;background-color: #f0f8ff;}#sk-container-id-1 div.sk-toggleable__content pre {margin: 0.2em;color: black;border-radius: 0.25em;background-color: #f0f8ff;}#sk-container-id-1 input.sk-toggleable__control:checked~div.sk-toggleable__content {max-height: 200px;max-width: 100%;overflow: auto;}#sk-container-id-1 input.sk-toggleable__control:checked~label.sk-toggleable__label-arrow:before {content: \"▾\";}#sk-container-id-1 div.sk-estimator input.sk-toggleable__control:checked~label.sk-toggleable__label {background-color: #d4ebff;}#sk-container-id-1 div.sk-label input.sk-toggleable__control:checked~label.sk-toggleable__label {background-color: #d4ebff;}#sk-container-id-1 input.sk-hidden--visually {border: 0;clip: rect(1px 1px 1px 1px);clip: rect(1px, 1px, 1px, 1px);height: 1px;margin: -1px;overflow: hidden;padding: 0;position: absolute;width: 1px;}#sk-container-id-1 div.sk-estimator {font-family: monospace;background-color: #f0f8ff;border: 1px dotted black;border-radius: 0.25em;box-sizing: border-box;margin-bottom: 0.5em;}#sk-container-id-1 div.sk-estimator:hover {background-color: #d4ebff;}#sk-container-id-1 div.sk-parallel-item::after {content: \"\";width: 100%;border-bottom: 1px solid gray;flex-grow: 1;}#sk-container-id-1 div.sk-label:hover label.sk-toggleable__label {background-color: #d4ebff;}#sk-container-id-1 div.sk-serial::before {content: \"\";position: absolute;border-left: 1px solid gray;box-sizing: border-box;top: 0;bottom: 0;left: 50%;z-index: 0;}#sk-container-id-1 div.sk-serial {display: flex;flex-direction: column;align-items: center;background-color: white;padding-right: 0.2em;padding-left: 0.2em;position: relative;}#sk-container-id-1 div.sk-item {position: relative;z-index: 1;}#sk-container-id-1 div.sk-parallel {display: flex;align-items: stretch;justify-content: center;background-color: white;position: relative;}#sk-container-id-1 div.sk-item::before, #sk-container-id-1 div.sk-parallel-item::before {content: \"\";position: absolute;border-left: 1px solid gray;box-sizing: border-box;top: 0;bottom: 0;left: 50%;z-index: -1;}#sk-container-id-1 div.sk-parallel-item {display: flex;flex-direction: column;z-index: 1;position: relative;background-color: white;}#sk-container-id-1 div.sk-parallel-item:first-child::after {align-self: flex-end;width: 50%;}#sk-container-id-1 div.sk-parallel-item:last-child::after {align-self: flex-start;width: 50%;}#sk-container-id-1 div.sk-parallel-item:only-child::after {width: 0;}#sk-container-id-1 div.sk-dashed-wrapped {border: 1px dashed gray;margin: 0 0.4em 0.5em 0.4em;box-sizing: border-box;padding-bottom: 0.4em;background-color: white;}#sk-container-id-1 div.sk-label label {font-family: monospace;font-weight: bold;display: inline-block;line-height: 1.2em;}#sk-container-id-1 div.sk-label-container {text-align: center;}#sk-container-id-1 div.sk-container {/* jupyter's `normalize.less` sets `[hidden] { display: none; }` but bootstrap.min.css set `[hidden] { display: none !important; }` so we also need the `!important` here to be able to override the default hidden behavior on the sphinx rendered scikit-learn.org. See: https://github.com/scikit-learn/scikit-learn/issues/21755 */display: inline-block !important;position: relative;}#sk-container-id-1 div.sk-text-repr-fallback {display: none;}</style><div id=\"sk-container-id-1\" class=\"sk-top-container\"><div class=\"sk-text-repr-fallback\"><pre>RandomForestClassifier(n_estimators=10, random_state=42)</pre><b>In a Jupyter environment, please rerun this cell to show the HTML representation or trust the notebook. <br />On GitHub, the HTML representation is unable to render, please try loading this page with nbviewer.org.</b></div><div class=\"sk-container\" hidden><div class=\"sk-item\"><div class=\"sk-estimator sk-toggleable\"><input class=\"sk-toggleable__control sk-hidden--visually\" id=\"sk-estimator-id-1\" type=\"checkbox\" checked><label for=\"sk-estimator-id-1\" class=\"sk-toggleable__label sk-toggleable__label-arrow\">RandomForestClassifier</label><div class=\"sk-toggleable__content\"><pre>RandomForestClassifier(n_estimators=10, random_state=42)</pre></div></div></div></div></div>"
      ],
      "text/plain": [
       "RandomForestClassifier(n_estimators=10, random_state=42)"
      ]
     },
     "execution_count": 17,
     "metadata": {},
     "output_type": "execute_result"
    }
   ],
   "source": [
    "model = RandomForestClassifier(n_estimators=num_trees, random_state=42)\n",
    "model.fit(x_train, y_train)"
   ]
  },
  {
   "cell_type": "code",
   "execution_count": 18,
   "metadata": {},
   "outputs": [],
   "source": [
    "# Prediksi pada data latih\n",
    "y_train_pred = model.predict(x_train)\n",
    "\n",
    "# Prediksi pada data uji\n",
    "y_test_pred = model.predict(x_test)"
   ]
  },
  {
   "cell_type": "code",
   "execution_count": 19,
   "metadata": {},
   "outputs": [],
   "source": [
    "# Hitung confusion matrix pada data latih\n",
    "conf_matrix_train = confusion_matrix(y_train, y_train_pred)"
   ]
  },
  {
   "cell_type": "code",
   "execution_count": 20,
   "metadata": {},
   "outputs": [],
   "source": [
    "# Hitung akurasi pada data latih\n",
    "accuracy_train = accuracy_score(y_train, y_train_pred)"
   ]
  },
  {
   "cell_type": "code",
   "execution_count": 21,
   "metadata": {},
   "outputs": [
    {
     "data": {
      "image/png": "[encoded data removed]",
      "text/plain": [
       "<Figure size 400x300 with 2 Axes>"
      ]
     },
     "metadata": {},
     "output_type": "display_data"
    }
   ],
   "source": [
    "# Visualisasi confusion matrix pada data latih\n",
    "plt.figure(figsize=(4, 3))\n",
    "sns.heatmap(conf_matrix_train, annot=True, fmt='d', cmap='Blues', xticklabels=['0', '1'], yticklabels=['0', '1'])\n",
    "plt.xlabel('Prediksi')\n",
    "plt.ylabel('Aktual')\n",
    "plt.title(f'Confusion Matrix (Data Latih)\\nAccuracy: {accuracy_train:.2%}')\n",
    "plt.show()"
   ]
  },
  {
   "cell_type": "code",
   "execution_count": 22,
   "metadata": {},
   "outputs": [],
   "source": [
    "# Hitung confusion matrix pada data uji\n",
    "conf_matrix_test = confusion_matrix(y_test, y_test_pred)"
   ]
  },
  {
   "cell_type": "code",
   "execution_count": 23,
   "metadata": {},
   "outputs": [],
   "source": [
    "# Hitung akurasi pada data uji\n",
    "accuracy_test = accuracy_score(y_test, y_test_pred)"
   ]
  },
  {
   "cell_type": "code",
   "execution_count": 24,
   "metadata": {},
   "outputs": [],
   "source": [
    "# Ekstraksi nilai dari confusion matrix\n",
    "import matplotlib.pyplot as plt\n",
    "import seaborn as sns\n",
    "tn, fp, fn, tp = conf_matrix_test.ravel()"
   ]
  },
  {
   "cell_type": "code",
   "execution_count": 25,
   "metadata": {},
   "outputs": [
    {
     "data": {
      "image/png": "[encoded data removed]",
      "text/plain": [
       "<Figure size 400x300 with 2 Axes>"
      ]
     },
     "metadata": {},
     "output_type": "display_data"
    }
   ],
   "source": [
    "# Visualisasi confusion matrix pada data uji dengan penekanan pada True Positive dan False Negative\n",
    "plt.figure(figsize=(4, 3))\n",
    "sns.heatmap(conf_matrix_test, annot=True, fmt='d', cmap='Blues', xticklabels=['0', '1'], yticklabels=['0', '1'])\n",
    "\n",
    "# Menambahkan label untuk True Positive dan False Negative\n",
    "plt.text(0, 0, f'TN: {tn}', horizontalalignment='center', verticalalignment='center')\n",
    "plt.text(0, 1, f'FN: {fn}', horizontalalignment='center', verticalalignment='center')\n",
    "plt.text(1, 0, f'FP: {fp}', horizontalalignment='center', verticalalignment='center')\n",
    "plt.text(1, 1, f'TP: {tp}', horizontalalignment='center', verticalalignment='center')\n",
    "plt.xlabel('Prediksi')\n",
    "plt.ylabel('Aktual')\n",
    "plt.title(f'Confusion Matrix (Data Uji)\\nAccuracy: {accuracy_test:.2%}')\n",
    "plt.show()"
   ]
  },
  {
   "cell_type": "code",
   "execution_count": 26,
   "metadata": {},
   "outputs": [],
   "source": [
    "df_new = pd.read_excel('kimia20.xlsx')"
   ]
  },
  {
   "cell_type": "code",
   "execution_count": 27,
   "metadata": {},
   "outputs": [
    {
     "data": {
      "text/html": [
       "<div>\n",
       "<style scoped>\n",
       "    .dataframe tbody tr th:only-of-type {\n",
       "        vertical-align: middle;\n",
       "    }\n",
       "\n",
       "    .dataframe tbody tr th {\n",
       "        vertical-align: top;\n",
       "    }\n",
       "\n",
       "    .dataframe thead th {\n",
       "        text-align: right;\n",
       "    }\n",
       "</style>\n",
       "<table border=\"1\" class=\"dataframe\">\n",
       "  <thead>\n",
       "    <tr style=\"text-align: right;\">\n",
       "      <th></th>\n",
       "      <th>nim</th>\n",
       "      <th>nama</th>\n",
       "      <th>prodi</th>\n",
       "      <th>Lama Penulisan</th>\n",
       "      <th>SKS</th>\n",
       "      <th>IPK</th>\n",
       "      <th>TOEFL</th>\n",
       "      <th>Kelas</th>\n",
       "    </tr>\n",
       "  </thead>\n",
       "  <tbody>\n",
       "    <tr>\n",
       "      <th>0</th>\n",
       "      <td>2000020001</td>\n",
       "      <td>Hanif Mulia Hati</td>\n",
       "      <td>TEKNIK KIMIA</td>\n",
       "      <td>6</td>\n",
       "      <td>127</td>\n",
       "      <td>3.05</td>\n",
       "      <td>495</td>\n",
       "      <td>0.0</td>\n",
       "    </tr>\n",
       "    <tr>\n",
       "      <th>1</th>\n",
       "      <td>2000020002</td>\n",
       "      <td>Syahrul Dwi Adi Candra</td>\n",
       "      <td>TEKNIK KIMIA</td>\n",
       "      <td>6</td>\n",
       "      <td>126</td>\n",
       "      <td>3.78</td>\n",
       "      <td>480</td>\n",
       "      <td>0.0</td>\n",
       "    </tr>\n",
       "    <tr>\n",
       "      <th>2</th>\n",
       "      <td>2000020004</td>\n",
       "      <td>Nidha Amalia Nurillah</td>\n",
       "      <td>TEKNIK KIMIA</td>\n",
       "      <td>8</td>\n",
       "      <td>128</td>\n",
       "      <td>2.83</td>\n",
       "      <td>484</td>\n",
       "      <td>0.0</td>\n",
       "    </tr>\n",
       "    <tr>\n",
       "      <th>3</th>\n",
       "      <td>2000020005</td>\n",
       "      <td>Alfina Diah Puspita Anggraeni</td>\n",
       "      <td>TEKNIK KIMIA</td>\n",
       "      <td>5</td>\n",
       "      <td>128</td>\n",
       "      <td>3.17</td>\n",
       "      <td>523</td>\n",
       "      <td>0.0</td>\n",
       "    </tr>\n",
       "    <tr>\n",
       "      <th>4</th>\n",
       "      <td>2000020006</td>\n",
       "      <td>Alliya Balqisviratu Hapsari</td>\n",
       "      <td>TEKNIK KIMIA</td>\n",
       "      <td>8</td>\n",
       "      <td>128</td>\n",
       "      <td>3.33</td>\n",
       "      <td>480</td>\n",
       "      <td>0.0</td>\n",
       "    </tr>\n",
       "    <tr>\n",
       "      <th>...</th>\n",
       "      <td>...</td>\n",
       "      <td>...</td>\n",
       "      <td>...</td>\n",
       "      <td>...</td>\n",
       "      <td>...</td>\n",
       "      <td>...</td>\n",
       "      <td>...</td>\n",
       "      <td>...</td>\n",
       "    </tr>\n",
       "    <tr>\n",
       "      <th>63</th>\n",
       "      <td>2000020092</td>\n",
       "      <td>Silva Nuramalia</td>\n",
       "      <td>TEKNIK KIMIA</td>\n",
       "      <td>7</td>\n",
       "      <td>127</td>\n",
       "      <td>3.50</td>\n",
       "      <td>498</td>\n",
       "      <td>0.0</td>\n",
       "    </tr>\n",
       "    <tr>\n",
       "      <th>64</th>\n",
       "      <td>2011020053</td>\n",
       "      <td>Muhammad Izzul Muslimin</td>\n",
       "      <td>TEKNIK KIMIA</td>\n",
       "      <td>7</td>\n",
       "      <td>125</td>\n",
       "      <td>3.11</td>\n",
       "      <td>485</td>\n",
       "      <td>0.0</td>\n",
       "    </tr>\n",
       "    <tr>\n",
       "      <th>65</th>\n",
       "      <td>2011020054</td>\n",
       "      <td>Kholif Fathan Muzakki</td>\n",
       "      <td>TEKNIK KIMIA</td>\n",
       "      <td>7</td>\n",
       "      <td>130</td>\n",
       "      <td>3.29</td>\n",
       "      <td>469</td>\n",
       "      <td>0.0</td>\n",
       "    </tr>\n",
       "    <tr>\n",
       "      <th>66</th>\n",
       "      <td>2015020045</td>\n",
       "      <td>Fazhar Nuryasari</td>\n",
       "      <td>TEKNIK KIMIA</td>\n",
       "      <td>7</td>\n",
       "      <td>126</td>\n",
       "      <td>3.68</td>\n",
       "      <td>410</td>\n",
       "      <td>0.0</td>\n",
       "    </tr>\n",
       "    <tr>\n",
       "      <th>67</th>\n",
       "      <td>2015020046</td>\n",
       "      <td>Dwi Ayu Ningtyas</td>\n",
       "      <td>TEKNIK KIMIA</td>\n",
       "      <td>7</td>\n",
       "      <td>125</td>\n",
       "      <td>3.91</td>\n",
       "      <td>420</td>\n",
       "      <td>0.0</td>\n",
       "    </tr>\n",
       "  </tbody>\n",
       "</table>\n",
       "<p>68 rows × 8 columns</p>\n",
       "</div>"
      ],
      "text/plain": [
       "           nim                           nama         prodi  Lama Penulisan  \\\n",
       "0   2000020001               Hanif Mulia Hati  TEKNIK KIMIA               6   \n",
       "1   2000020002         Syahrul Dwi Adi Candra  TEKNIK KIMIA               6   \n",
       "2   2000020004          Nidha Amalia Nurillah  TEKNIK KIMIA               8   \n",
       "3   2000020005  Alfina Diah Puspita Anggraeni  TEKNIK KIMIA               5   \n",
       "4   2000020006    Alliya Balqisviratu Hapsari  TEKNIK KIMIA               8   \n",
       "..         ...                            ...           ...             ...   \n",
       "63  2000020092                Silva Nuramalia  TEKNIK KIMIA               7   \n",
       "64  2011020053        Muhammad Izzul Muslimin  TEKNIK KIMIA               7   \n",
       "65  2011020054          Kholif Fathan Muzakki  TEKNIK KIMIA               7   \n",
       "66  2015020045               Fazhar Nuryasari  TEKNIK KIMIA               7   \n",
       "67  2015020046               Dwi Ayu Ningtyas  TEKNIK KIMIA               7   \n",
       "\n",
       "    SKS   IPK  TOEFL  Kelas  \n",
       "0   127  3.05    495    0.0  \n",
       "1   126  3.78    480    0.0  \n",
       "2   128  2.83    484    0.0  \n",
       "3   128  3.17    523    0.0  \n",
       "4   128  3.33    480    0.0  \n",
       "..  ...   ...    ...    ...  \n",
       "63  127  3.50    498    0.0  \n",
       "64  125  3.11    485    0.0  \n",
       "65  130  3.29    469    0.0  \n",
       "66  126  3.68    410    0.0  \n",
       "67  125  3.91    420    0.0  \n",
       "\n",
       "[68 rows x 8 columns]"
      ]
     },
     "execution_count": 27,
     "metadata": {},
     "output_type": "execute_result"
    }
   ],
   "source": [
    "# Menghapus Index\n",
    "df_new = df_new.reset_index(drop=True)\n",
    "df_new.columns = ['nim','nama','prodi','Lama Penulisan','SKS','IPK','TOEFL','Kelas']\n",
    "def_status = 0\n",
    "df_new.fillna(def_status, inplace = True)\n",
    "df_new"
   ]
  },
  {
   "cell_type": "code",
   "execution_count": 28,
   "metadata": {},
   "outputs": [],
   "source": [
    "# Mapping kelas menjadi 0 (Tepat Waktu) dan 1 (Tidak Tepat Waktu)\n",
    "ket = {\"Tepat Waktu\": 0, \"Tidak Tepat Waktu\": 1}\n",
    "df_new[\"Kelas\"] = df_new[\"Kelas\"].map(ket)"
   ]
  },
  {
   "cell_type": "code",
   "execution_count": 29,
   "metadata": {},
   "outputs": [],
   "source": [
    "# Membuat data training\n",
    "data2 = df_new.loc[:, ['Lama Penulisan', 'SKS', 'IPK', 'TOEFL']]\n",
    "X_new = data2"
   ]
  },
  {
   "cell_type": "code",
   "execution_count": 30,
   "metadata": {},
   "outputs": [],
   "source": [
    "# Prediksi menggunakan model Random Forest yang telah dilatih\n",
    "predictions_new = model.predict(X_new)"
   ]
  },
  {
   "cell_type": "code",
   "execution_count": 31,
   "metadata": {},
   "outputs": [],
   "source": [
    "# Mapping hasil prediksi menjadi label yang sesuai\n",
    "hasil_prediksi = pd.Series(predictions_new).map({0: \"Tepat Waktu\", 1: \"Tidak Tepat Waktu\"})"
   ]
  },
  {
   "cell_type": "code",
   "execution_count": 32,
   "metadata": {},
   "outputs": [],
   "source": [
    "# Menambahkan kolom Hasil ke dataset_new\n",
    "df_new['Hasil'] = hasil_prediksi"
   ]
  },
  {
   "cell_type": "code",
   "execution_count": 33,
   "metadata": {},
   "outputs": [
    {
     "name": "stdout",
     "output_type": "stream",
     "text": [
      "Prediksi untuk dataset baru:\n",
      "           nim                           nama         prodi  Lama Penulisan  \\\n",
      "0   2000020001               Hanif Mulia Hati  TEKNIK KIMIA               6   \n",
      "1   2000020002         Syahrul Dwi Adi Candra  TEKNIK KIMIA               6   \n",
      "2   2000020004          Nidha Amalia Nurillah  TEKNIK KIMIA               8   \n",
      "3   2000020005  Alfina Diah Puspita Anggraeni  TEKNIK KIMIA               5   \n",
      "4   2000020006    Alliya Balqisviratu Hapsari  TEKNIK KIMIA               8   \n",
      "..         ...                            ...           ...             ...   \n",
      "63  2000020092                Silva Nuramalia  TEKNIK KIMIA               7   \n",
      "64  2011020053        Muhammad Izzul Muslimin  TEKNIK KIMIA               7   \n",
      "65  2011020054          Kholif Fathan Muzakki  TEKNIK KIMIA               7   \n",
      "66  2015020045               Fazhar Nuryasari  TEKNIK KIMIA               7   \n",
      "67  2015020046               Dwi Ayu Ningtyas  TEKNIK KIMIA               7   \n",
      "\n",
      "    SKS   IPK  TOEFL              Hasil  \n",
      "0   127  3.05    495        Tepat Waktu  \n",
      "1   126  3.78    480        Tepat Waktu  \n",
      "2   128  2.83    484  Tidak Tepat Waktu  \n",
      "3   128  3.17    523        Tepat Waktu  \n",
      "4   128  3.33    480  Tidak Tepat Waktu  \n",
      "..  ...   ...    ...                ...  \n",
      "63  127  3.50    498        Tepat Waktu  \n",
      "64  125  3.11    485        Tepat Waktu  \n",
      "65  130  3.29    469        Tepat Waktu  \n",
      "66  126  3.68    410        Tepat Waktu  \n",
      "67  125  3.91    420        Tepat Waktu  \n",
      "\n",
      "[68 rows x 8 columns]\n"
     ]
    }
   ],
   "source": [
    "# Menampilkan hasil prediksi\n",
    "print(\"Prediksi untuk dataset baru:\")\n",
    "print(df_new[['nim','nama','prodi','Lama Penulisan', 'SKS', 'IPK', 'TOEFL', 'Hasil']])"
   ]
  },
  {
   "cell_type": "code",
   "execution_count": 34,
   "metadata": {},
   "outputs": [],
   "source": [
    "# Hitung nilai kelas\n",
    "class_counts = df_new.Hasil.value_counts()"
   ]
  },
  {
   "cell_type": "code",
   "execution_count": 35,
   "metadata": {},
   "outputs": [
    {
     "data": {
      "image/png": "[encoded data removed]",
      "text/plain": [
       "<Figure size 400x300 with 1 Axes>"
      ]
     },
     "metadata": {},
     "output_type": "display_data"
    }
   ],
   "source": [
    "# Buat plot bar\n",
    "plt.figure(figsize=(4,3))\n",
    "class_counts.plot(kind='bar', color=['skyblue', 'orange'])\n",
    "# Beri judul dan label sumbu\n",
    "plt.title('Distribusi Kelas', fontsize=15)\n",
    "plt.xlabel('Hasil', fontsize=12)\n",
    "plt.ylabel('Jumlah', fontsize=12)\n",
    "\n",
    "# Tampilkan plot\n",
    "plt.show()"
   ]
  },
  {
   "cell_type": "code",
   "execution_count": 36,
   "metadata": {},
   "outputs": [],
   "source": [
    "# Simpan model ke dalam file menggunakan pickle\n",
    "import pickle\n",
    "with open('kimia.pkl', 'wb') as model_file:\n",
    "    pickle.dump(model, model_file)"
   ]
  },
  {
   "cell_type": "code",
   "execution_count": null,
   "metadata": {},
   "outputs": [],
   "source": []
  }
 ],
 "metadata": {
  "kernelspec": {
   "display_name": "Python 3 (ipykernel)",
   "language": "python",
   "name": "python3"
  },
  "language_info": {
   "codemirror_mode": {
    "name": "ipython",
    "version": 3
   },
   "file_extension": ".py",
   "mimetype": "text/x-python",
   "name": "python",
   "nbconvert_exporter": "python",
   "pygments_lexer": "ipython3",
   "version": "3.11.5"
  }
 },
 "nbformat": 4,
 "nbformat_minor": 2
}
